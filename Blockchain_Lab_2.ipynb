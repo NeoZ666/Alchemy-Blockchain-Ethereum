{
  "nbformat": 4,
  "nbformat_minor": 0,
  "metadata": {
    "colab": {
      "provenance": [],
      "include_colab_link": true
    },
    "kernelspec": {
      "name": "python3",
      "display_name": "Python 3"
    },
    "language_info": {
      "name": "python"
    }
  },
  "cells": [
    {
      "cell_type": "markdown",
      "metadata": {
        "id": "view-in-github",
        "colab_type": "text"
      },
      "source": [
        "<a href=\"https://colab.research.google.com/github/NeoZ666/Alchemy-Blockchain-Ethereum/blob/main/Blockchain_Lab_2.ipynb\" target=\"_parent\"><img src=\"https://colab.research.google.com/assets/colab-badge.svg\" alt=\"Open In Colab\"/></a>"
      ]
    },
    {
      "cell_type": "code",
      "source": [
        "import datetime\n",
        "import hashlib\n",
        "import json"
      ],
      "metadata": {
        "id": "JaDJVtjzzwd8"
      },
      "execution_count": 1,
      "outputs": []
    },
    {
      "cell_type": "code",
      "execution_count": 4,
      "metadata": {
        "id": "FJ5IqaskzbWT"
      },
      "outputs": [],
      "source": [
        "import hashlib\n",
        "import json\n",
        "import datetime\n",
        "\n",
        "class Blockchain:\n",
        "    def __init__(self):\n",
        "        self.chain = []\n",
        "        self.mempool = []  # To store pending transactions\n",
        "        self.create_block(proof=1, previous_hash='0')\n",
        "\n",
        "    def create_block(self, proof, previous_hash):\n",
        "        block = {\n",
        "            'index': len(self.chain) + 1,\n",
        "            'timestamp': str(datetime.datetime.now()),\n",
        "            'proof': proof,\n",
        "            'previous_hash': previous_hash,\n",
        "            'transactions': []  # Include transactions in the block\n",
        "        }\n",
        "        self.chain.append(block)\n",
        "        return block\n",
        "\n",
        "    def get_previous_block(self):\n",
        "        return self.chain[-1]\n",
        "\n",
        "    def proof_of_work(self):\n",
        "      MAX_TXN = 10\n",
        "      TARGET_DIFFICULTY = 0x0000FFFF\n",
        "\n",
        "      previous_block = self.get_previous_block()\n",
        "      previous_proof = previous_block['proof']\n",
        "\n",
        "      while len(self.mempool) > 0 and len(block['transactions']) < MAX_TXN:\n",
        "        block['transactions'].append(self.mempool.pop(0))\n",
        "\n",
        "      block_data = json.dumps(block, sort_keys=True).encode()\n",
        "      proof = 0\n",
        "      while True:\n",
        "        block['proof'] = proof\n",
        "        block_data = json.dumps(block, sort_keys=True).encode()\n",
        "        hash_operation = hashlib.sha256(block_data).hexdigest()\n",
        "        if int(hash_operation, 16) < TARGET_DIFFICULTY:\n",
        "            block['hash'] = hash_operation\n",
        "            break\n",
        "        proof += 1\n",
        "\n",
        "      self.chain.append(block)\n",
        "\n",
        "      return block\n",
        "\n",
        "\n",
        "    def hash(self, block):\n",
        "        encoded_block = json.dumps(block, sort_keys=True).encode()\n",
        "        return hashlib.sha256(encoded_block).hexdigest()\n",
        "\n",
        "    def is_chain_valid(self, chain):\n",
        "        previous_block = chain[0]\n",
        "        block_index = 1\n",
        "        while block_index < len(chain):\n",
        "            block = chain[block_index]\n",
        "            if block['previous_hash'] != self.hash(previous_block):\n",
        "                return False\n",
        "            previous_proof = previous_block['proof']\n",
        "            proof = block['proof']\n",
        "            hash_operation = hashlib.sha256(str(proof**2 - previous_proof**2).encode()).hexdigest()\n",
        "            if hash_operation[:4] != '0000':\n",
        "                return False\n",
        "            previous_block = block\n",
        "            block_index += 1\n",
        "        return True\n",
        "\n",
        "    def add_transaction(self, transaction):\n",
        "        self.mempool.append(transaction)\n",
        "\n"
      ]
    },
    {
      "cell_type": "code",
      "source": [
        "\n",
        "blockchain = Blockchain()\n",
        "blockchain.add_transaction({\"from\": \"Alice\", \"to\": \"Bob\", \"amount\": 50})\n",
        "blockchain.add_transaction({\"from\": \"Bob\", \"to\": \"Charlie\", \"amount\": 30})\n",
        "new_block = blockchain.proof_of_work()\n",
        "\n",
        "print(\"New Block:\", new_block)\n",
        "print(\"Blockchain:\", blockchain.chain)"
      ],
      "metadata": {
        "id": "O1vsWi_P0FDQ"
      },
      "execution_count": null,
      "outputs": []
    },
    {
      "cell_type": "code",
      "source": [
        "# Mining a new block\n",
        "def mine_block():\n",
        "    previous_block = blockchain.get_previous_block()\n",
        "    previous_proof = previous_block['proof']\n",
        "    proof = blockchain.proof_of_work(previous_proof)\n",
        "    previous_hash = blockchain.hash(previous_block)\n",
        "    block = blockchain.create_block(proof, previous_hash)\n",
        "    response = {'message': 'Congratulations, you just mined a block!',\n",
        "                'index': block['index'],\n",
        "                'timestamp': block['timestamp'],\n",
        "                'proof': block['proof'],\n",
        "                'previous_hash': block['previous_hash']}\n",
        "    return response"
      ],
      "metadata": {
        "id": "_r79JUgxz8nX"
      },
      "execution_count": 4,
      "outputs": []
    },
    {
      "cell_type": "code",
      "source": [
        "# Getting the full Blockchain\n",
        "def get_chain():\n",
        "    response = {'chain': blockchain.chain,\n",
        "                'length': len(blockchain.chain)}\n",
        "    return response"
      ],
      "metadata": {
        "id": "CSI7qd0i0O2h"
      },
      "execution_count": 5,
      "outputs": []
    },
    {
      "cell_type": "code",
      "source": [
        "# Checking if the Blockchain is valid\n",
        "def is_valid():\n",
        "    is_valid = blockchain.is_chain_valid(blockchain.chain)\n",
        "    if is_valid:\n",
        "        response = {'message': 'All good. The Blockchain is valid.'}\n",
        "    else:\n",
        "        response = {'message': 'Houston, we have a problem. The Blockchain is not valid.'}\n",
        "    return response"
      ],
      "metadata": {
        "id": "OxSP15sX0MkZ"
      },
      "execution_count": 6,
      "outputs": []
    },
    {
      "source": [],
      "cell_type": "code",
      "metadata": {
        "id": "MX5BzrVeolQj"
      },
      "execution_count": null,
      "outputs": []
    },
    {
      "source": [],
      "cell_type": "code",
      "metadata": {
        "id": "0-OKg-wekxzG"
      },
      "execution_count": null,
      "outputs": []
    },
    {
      "cell_type": "code",
      "source": [
        "print(\"Functions Menu:\")\n",
        "print(\"===============\")\n",
        "print(\"1. Mine a block\")\n",
        "print(\"2. Display the chain\")\n",
        "print(\"3. Check the validity of the chain\")\n",
        "choice = int(input(\"Enter your choice :\"))\n",
        "if choice == 1:\n",
        "  print(mine_block())\n",
        "elif choice == 2:\n",
        "  print(get_chain())\n",
        "elif choice == 3:\n",
        "  print(is_valid())\n",
        "else :\n",
        "  print(\"Invalid choice\")"
      ],
      "metadata": {
        "id": "mUYjAL2Ot9fG",
        "colab": {
          "base_uri": "https://localhost:8080/"
        },
        "outputId": "694a1391-b801-43c1-c4b4-05df3924a280"
      },
      "execution_count": null,
      "outputs": [
        {
          "output_type": "stream",
          "name": "stdout",
          "text": [
            "Functions Menu:\n",
            "===============\n",
            "1. Mine a block\n",
            "2. Display the chain\n",
            "3. Check the validity of the chain\n"
          ]
        }
      ]
    },
    {
      "cell_type": "code",
      "source": [
        "import hashlib\n",
        "import json\n",
        "\n",
        "class Transaction:\n",
        "\n",
        "    def __init__(self):\n",
        "        self.mempool = []\n",
        "        self.blocks = []\n",
        "\n",
        "    def add_txn(self, txn):\n",
        "        self.mempool.append(txn)\n",
        "\n",
        "    def proof_of_work(self):\n",
        "        MAX_TXN = 10\n",
        "        TARGET_DIFFICULTY = 0x0000FFFF\n",
        "\n",
        "        block = {\n",
        "            'id': len(self.blocks),\n",
        "            'transactions': [],\n",
        "            'nonce': 0,\n",
        "            'hash': '',\n",
        "            'previous_hash': self.blocks[-1]['hash'] if self.blocks else '0'\n",
        "        }\n",
        "\n",
        "        while len(self.mempool) > 0 and len(block['transactions']) < MAX_TXN:\n",
        "            block['transactions'].append(self.mempool.pop(0))\n",
        "\n",
        "        block_data = json.dumps(block, sort_keys=True).encode()\n",
        "        block['hash'] = hashlib.sha256(block_data).hexdigest()\n",
        "        while int(block['hash'], 16) > TARGET_DIFFICULTY:\n",
        "            block['nonce'] += 1\n",
        "            block_data = json.dumps(block, sort_keys=True).encode()\n",
        "            block['hash'] = hashlib.sha256(block_data).hexdigest()\n",
        "\n",
        "        self.blocks.append(block)\n",
        "\n",
        "        return block"
      ],
      "metadata": {
        "id": "XTdblnRUqO5m"
      },
      "execution_count": null,
      "outputs": []
    },
    {
      "cell_type": "code",
      "source": [
        "transaction_manager = Transaction()\n",
        "transaction_manager.add_txn({\"from\": \"Alice\", \"to\": \"Bob\", \"amount\": 50})\n",
        "transaction_manager.add_txn({\"from\": \"Bob\", \"to\": \"Charlie\", \"amount\": 30})\n",
        "new_block = transaction_manager.proof_of_work()\n",
        "\n",
        "print(\"New Block:\", new_block)\n",
        "print(\"Blockchain:\", transaction_manager.blocks)"
      ],
      "metadata": {
        "id": "oSN11O-3qI-n"
      },
      "execution_count": null,
      "outputs": []
    }
  ]
}